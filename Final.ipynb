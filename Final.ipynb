{
  "nbformat": 4,
  "nbformat_minor": 0,
  "metadata": {
    "colab": {
      "provenance": []
    },
    "kernelspec": {
      "name": "python3",
      "display_name": "Python 3"
    },
    "language_info": {
      "name": "python"
    }
  },
  "cells": [
    {
      "cell_type": "code",
      "execution_count": 39,
      "metadata": {
        "id": "xmyhmEXZ1-oY"
      },
      "outputs": [],
      "source": [
        "import numpy as np\n",
        "import pandas as pd\n",
        "import matplotlib.pyplot as plt\n",
        "import seaborn as sns\n",
        "from sklearn.model_selection import train_test_split\n",
        "from sklearn.preprocessing import StandardScaler\n",
        "from sklearn.metrics import confusion_matrix\n",
        "from sklearn.metrics import accuracy_score\n",
        "from sklearn.metrics import precision_score\n",
        "from sklearn.metrics import recall_score\n",
        "from sklearn.metrics import f1_score\n",
        "from sklearn.datasets import load_iris\n",
        "from sklearn import tree\n",
        "from sklearn.ensemble import RandomForestClassifier\n",
        "from sklearn.naive_bayes import GaussianNB\n",
        "from sklearn.neighbors import KNeighborsClassifier"
      ]
    },
    {
      "cell_type": "code",
      "source": [
        "#İris veri setini çağırıyoruz.\n",
        "X, y = load_iris(return_X_y=True)"
      ],
      "metadata": {
        "id": "24pCJSHW2E3w"
      },
      "execution_count": 40,
      "outputs": []
    },
    {
      "cell_type": "code",
      "source": [
        "#Eğitim ve test verisi olarak ayırıyoruz.\n",
        "X_train, X_test, y_train, y_test = train_test_split(X, y, stratify=y, test_size=0.3)"
      ],
      "metadata": {
        "id": "8huXbuT72FAj"
      },
      "execution_count": 41,
      "outputs": []
    },
    {
      "cell_type": "code",
      "source": [
        "#Ölçeklendirilme işlemi\n",
        "sc=StandardScaler()\n",
        "X_train = sc.fit_transform(X_train)\n",
        "X_test = sc.transform(X_test)"
      ],
      "metadata": {
        "id": "6G6RNXWR2FK4"
      },
      "execution_count": 42,
      "outputs": []
    },
    {
      "cell_type": "code",
      "source": [
        "#Decision Tree\n",
        "dt = tree.DecisionTreeClassifier()\n",
        "dt = dt.fit(X_train, y_train)"
      ],
      "metadata": {
        "id": "4ZjzjM042FR3"
      },
      "execution_count": 43,
      "outputs": []
    },
    {
      "cell_type": "code",
      "source": [
        "#Random Forest\n",
        "rf = RandomForestClassifier(n_estimators=10)\n",
        "rf = rf.fit(X_train, y_train)"
      ],
      "metadata": {
        "id": "kRzAS17a2FfT"
      },
      "execution_count": 44,
      "outputs": []
    },
    {
      "cell_type": "code",
      "source": [
        "#Naive-Bayes\n",
        "nb = GaussianNB()\n",
        "nb = nb.fit(X_train, y_train)"
      ],
      "metadata": {
        "id": "HBeA-fT82Roe"
      },
      "execution_count": 45,
      "outputs": []
    },
    {
      "cell_type": "code",
      "source": [
        "#K-NN\n",
        "knn = KNeighborsClassifier(n_neighbors=3)\n",
        "knn = knn.fit(X_train,y_train)"
      ],
      "metadata": {
        "id": "DHIj30MC2Rw2"
      },
      "execution_count": 46,
      "outputs": []
    },
    {
      "cell_type": "code",
      "source": [
        "models = list()\n",
        "models.append([\"Decision Tree\",dt])\n",
        "models.append([\"Random Forest\",rf])\n",
        "models.append([\"Naive-Bayes\",nb])\n",
        "models.append([\"K-NN\",knn])"
      ],
      "metadata": {
        "id": "5GooNQHw2R7c"
      },
      "execution_count": 47,
      "outputs": []
    },
    {
      "cell_type": "code",
      "source": [
        "results = list()\n",
        "scores = pd.DataFrame()"
      ],
      "metadata": {
        "id": "yIPVyrxk2R-7"
      },
      "execution_count": 48,
      "outputs": []
    },
    {
      "cell_type": "code",
      "source": [
        "for model_name, model in models:\n",
        "    y_pred = model.predict(X_test)\n",
        "\n",
        "    cm = confusion_matrix(y_test, y_pred)\n",
        "    print(model_name,\"\\n\",cm)\n",
        "\n",
        "    accuracy_rate = accuracy_score(y_test, y_pred)\n",
        "    precision = precision_score(y_test, y_pred,average='micro')\n",
        "    recall =recall_score(y_test, y_pred,average='micro')\n",
        "    f1 = f1_score(y_test, y_pred,average='micro')\n",
        "\n",
        "    score = [model_name,accuracy_rate,precision,recall,f1]\n",
        "    score = pd.DataFrame(score)\n",
        "    scores = pd.concat([scores, score],axis=1,ignore_index=True)\n",
        "\n",
        "s = pd.DataFrame([\"Model\",\"Accuracy_Rate\",\"Precision\", \"Recall\", \"F1\"])\n",
        "scores = pd.concat([s,scores],axis=1,ignore_index=True)"
      ],
      "metadata": {
        "colab": {
          "base_uri": "https://localhost:8080/"
        },
        "id": "bH7X0Dft2gU1",
        "outputId": "2aff6ed3-2f9a-4d25-f6c5-32ab2b9b34f0"
      },
      "execution_count": 55,
      "outputs": [
        {
          "output_type": "stream",
          "name": "stdout",
          "text": [
            "Decision Tree \n",
            " [[15  0  0]\n",
            " [ 0 13  2]\n",
            " [ 0  2 13]]\n",
            "Random Forest \n",
            " [[15  0  0]\n",
            " [ 0 13  2]\n",
            " [ 0  1 14]]\n",
            "Naive-Bayes \n",
            " [[15  0  0]\n",
            " [ 0 13  2]\n",
            " [ 0  2 13]]\n",
            "K-NN \n",
            " [[15  0  0]\n",
            " [ 0 13  2]\n",
            " [ 0  2 13]]\n"
          ]
        }
      ]
    },
    {
      "cell_type": "code",
      "source": [
        "print(scores)"
      ],
      "metadata": {
        "colab": {
          "base_uri": "https://localhost:8080/"
        },
        "id": "SWGy6n0Y2hSz",
        "outputId": "b56fb4aa-1c80-43ca-fc03-0ba5940b6fba"
      },
      "execution_count": 50,
      "outputs": [
        {
          "output_type": "stream",
          "name": "stdout",
          "text": [
            "               0              1              2            3         4\n",
            "0          Model  Decision Tree  Random Forest  Naive-Bayes      K-NN\n",
            "1  Accuracy_Rate       0.911111       0.933333     0.911111  0.911111\n",
            "2      Precision       0.911111       0.933333     0.911111  0.911111\n",
            "3         Recall       0.911111       0.933333     0.911111  0.911111\n",
            "4             F1       0.911111       0.933333     0.911111  0.911111\n"
          ]
        }
      ]
    },
    {
      "cell_type": "code",
      "source": [
        "#Confusion matrix Decision Tree\n",
        "y_pred = dt.predict(X_test)\n",
        "\n",
        "cm = confusion_matrix(y_test, y_pred)\n",
        "sns.heatmap(cm,annot=True)"
      ],
      "metadata": {
        "colab": {
          "base_uri": "https://localhost:8080/",
          "height": 447
        },
        "id": "D7sjbGOn2kvn",
        "outputId": "9bec08b9-a71a-4fba-d5d2-a25c90bfa83e"
      },
      "execution_count": 51,
      "outputs": [
        {
          "output_type": "execute_result",
          "data": {
            "text/plain": [
              "<Axes: >"
            ]
          },
          "metadata": {},
          "execution_count": 51
        },
        {
          "output_type": "display_data",
          "data": {
            "text/plain": [
              "<Figure size 640x480 with 2 Axes>"
            ],
            "image/png": "[encoded data removed]"
          },
          "metadata": {}
        }
      ]
    },
    {
      "cell_type": "code",
      "source": [
        "#Confusion matrix Random Forest\n",
        "y_pred = rf.predict(X_test)\n",
        "\n",
        "cm = confusion_matrix(y_test, y_pred)\n",
        "sns.heatmap(cm,annot=True)"
      ],
      "metadata": {
        "colab": {
          "base_uri": "https://localhost:8080/",
          "height": 447
        },
        "id": "aAJtpaxU4GMU",
        "outputId": "04e3d1a1-a35c-44e9-8dfe-08acbd987653"
      },
      "execution_count": 52,
      "outputs": [
        {
          "output_type": "execute_result",
          "data": {
            "text/plain": [
              "<Axes: >"
            ]
          },
          "metadata": {},
          "execution_count": 52
        },
        {
          "output_type": "display_data",
          "data": {
            "text/plain": [
              "<Figure size 640x480 with 2 Axes>"
            ],
            "image/png": "[encoded data removed]"
          },
          "metadata": {}
        }
      ]
    },
    {
      "cell_type": "code",
      "source": [
        "#Confusion matrix Naive-Bayes\n",
        "y_pred = nb.predict(X_test)\n",
        "\n",
        "cm = confusion_matrix(y_test, y_pred)\n",
        "sns.heatmap(cm,annot=True)"
      ],
      "metadata": {
        "colab": {
          "base_uri": "https://localhost:8080/",
          "height": 447
        },
        "id": "Y9ldzL1v4Gcr",
        "outputId": "78b13ab7-e96b-48b1-bcd7-6855876994c8"
      },
      "execution_count": 53,
      "outputs": [
        {
          "output_type": "execute_result",
          "data": {
            "text/plain": [
              "<Axes: >"
            ]
          },
          "metadata": {},
          "execution_count": 53
        },
        {
          "output_type": "display_data",
          "data": {
            "text/plain": [
              "<Figure size 640x480 with 2 Axes>"
            ],
            "image/png": "[encoded data removed]"
          },
          "metadata": {}
        }
      ]
    },
    {
      "cell_type": "code",
      "source": [
        "#Confusion matrix K-NN\n",
        "y_pred = knn.predict(X_test)\n",
        "\n",
        "cm = confusion_matrix(y_test, y_pred)\n",
        "sns.heatmap(cm,annot=True)"
      ],
      "metadata": {
        "colab": {
          "base_uri": "https://localhost:8080/",
          "height": 447
        },
        "id": "Ih-8APEx4G2_",
        "outputId": "f08d5158-57a4-4b6d-d735-dbaebb826a67"
      },
      "execution_count": 54,
      "outputs": [
        {
          "output_type": "execute_result",
          "data": {
            "text/plain": [
              "<Axes: >"
            ]
          },
          "metadata": {},
          "execution_count": 54
        },
        {
          "output_type": "display_data",
          "data": {
            "text/plain": [
              "<Figure size 640x480 with 2 Axes>"
            ],
            "image/png": "[encoded data removed]"
          },
          "metadata": {}
        }
      ]
    }
  ]
}